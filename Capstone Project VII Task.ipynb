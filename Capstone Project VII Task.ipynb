{
 "cells": [
  {
   "cell_type": "markdown",
   "id": "0b111e23",
   "metadata": {},
   "source": [
    "## Unsupervised learning - PCA and clustering capstone project"
   ]
  },
  {
   "cell_type": "markdown",
   "id": "fedba074",
   "metadata": {},
   "source": [
    "## Exporting the data"
   ]
  },
  {
   "cell_type": "code",
   "execution_count": 1,
   "id": "d5f5de4c",
   "metadata": {},
   "outputs": [
    {
     "name": "stdout",
     "output_type": "stream",
     "text": [
      "Requirement already satisfied: pca in /Users/benjaminhamnachearias/opt/anaconda3/lib/python3.8/site-packages (1.8.6)\n",
      "Requirement already satisfied: adjustText in /Users/benjaminhamnachearias/opt/anaconda3/lib/python3.8/site-packages (from pca) (0.7.3)\n",
      "Requirement already satisfied: scikit-learn in /Users/benjaminhamnachearias/opt/anaconda3/lib/python3.8/site-packages (from pca) (1.1.3)\n",
      "Requirement already satisfied: wget in /Users/benjaminhamnachearias/opt/anaconda3/lib/python3.8/site-packages (from pca) (3.2)\n",
      "Requirement already satisfied: pandas in /Users/benjaminhamnachearias/opt/anaconda3/lib/python3.8/site-packages (from pca) (1.2.4)\n",
      "Requirement already satisfied: tqdm in /Users/benjaminhamnachearias/opt/anaconda3/lib/python3.8/site-packages (from pca) (4.59.0)\n",
      "Requirement already satisfied: matplotlib in /Users/benjaminhamnachearias/opt/anaconda3/lib/python3.8/site-packages (from pca) (3.3.4)\n",
      "Requirement already satisfied: numpy in /Users/benjaminhamnachearias/opt/anaconda3/lib/python3.8/site-packages (from pca) (1.20.1)\n",
      "Requirement already satisfied: scipy in /Users/benjaminhamnachearias/opt/anaconda3/lib/python3.8/site-packages (from pca) (1.6.2)\n",
      "Requirement already satisfied: colourmap>=1.1.10 in /Users/benjaminhamnachearias/opt/anaconda3/lib/python3.8/site-packages (from pca) (1.1.10)\n",
      "Requirement already satisfied: scatterd>=1.2.5 in /Users/benjaminhamnachearias/opt/anaconda3/lib/python3.8/site-packages (from pca) (1.2.5)\n",
      "Requirement already satisfied: requests in /Users/benjaminhamnachearias/opt/anaconda3/lib/python3.8/site-packages (from scatterd>=1.2.5->pca) (2.25.1)\n",
      "Requirement already satisfied: seaborn in /Users/benjaminhamnachearias/opt/anaconda3/lib/python3.8/site-packages (from scatterd>=1.2.5->pca) (0.12.1)\n",
      "Requirement already satisfied: pyparsing!=2.0.4,!=2.1.2,!=2.1.6,>=2.0.3 in /Users/benjaminhamnachearias/opt/anaconda3/lib/python3.8/site-packages (from matplotlib->pca) (2.4.7)\n",
      "Requirement already satisfied: python-dateutil>=2.1 in /Users/benjaminhamnachearias/opt/anaconda3/lib/python3.8/site-packages (from matplotlib->pca) (2.8.1)\n",
      "Requirement already satisfied: pillow>=6.2.0 in /Users/benjaminhamnachearias/opt/anaconda3/lib/python3.8/site-packages (from matplotlib->pca) (8.2.0)\n",
      "Requirement already satisfied: kiwisolver>=1.0.1 in /Users/benjaminhamnachearias/opt/anaconda3/lib/python3.8/site-packages (from matplotlib->pca) (1.3.1)\n",
      "Requirement already satisfied: cycler>=0.10 in /Users/benjaminhamnachearias/opt/anaconda3/lib/python3.8/site-packages (from matplotlib->pca) (0.10.0)\n",
      "Requirement already satisfied: six in /Users/benjaminhamnachearias/opt/anaconda3/lib/python3.8/site-packages (from cycler>=0.10->matplotlib->pca) (1.15.0)\n",
      "Requirement already satisfied: pytz>=2017.3 in /Users/benjaminhamnachearias/opt/anaconda3/lib/python3.8/site-packages (from pandas->pca) (2021.1)\n",
      "Requirement already satisfied: urllib3<1.27,>=1.21.1 in /Users/benjaminhamnachearias/opt/anaconda3/lib/python3.8/site-packages (from requests->scatterd>=1.2.5->pca) (1.26.4)\n",
      "Requirement already satisfied: idna<3,>=2.5 in /Users/benjaminhamnachearias/opt/anaconda3/lib/python3.8/site-packages (from requests->scatterd>=1.2.5->pca) (2.10)\n",
      "Requirement already satisfied: certifi>=2017.4.17 in /Users/benjaminhamnachearias/opt/anaconda3/lib/python3.8/site-packages (from requests->scatterd>=1.2.5->pca) (2020.12.5)\n",
      "Requirement already satisfied: chardet<5,>=3.0.2 in /Users/benjaminhamnachearias/opt/anaconda3/lib/python3.8/site-packages (from requests->scatterd>=1.2.5->pca) (4.0.0)\n",
      "Requirement already satisfied: joblib>=1.0.0 in /Users/benjaminhamnachearias/opt/anaconda3/lib/python3.8/site-packages (from scikit-learn->pca) (1.0.1)\n",
      "Requirement already satisfied: threadpoolctl>=2.0.0 in /Users/benjaminhamnachearias/opt/anaconda3/lib/python3.8/site-packages (from scikit-learn->pca) (2.1.0)\n"
     ]
    }
   ],
   "source": [
    "import pandas as pd\n",
    "import numpy as np\n",
    "import seaborn as sns\n",
    "import matplotlib.pyplot as plt\n",
    "%matplotlib inline\n",
    "\n",
    "from mpl_toolkits.mplot3d import Axes3D\n",
    "\n",
    "from sklearn.preprocessing import StandardScaler\n",
    "from sklearn.preprocessing import MinMaxScaler\n",
    "from sklearn.preprocessing import LabelEncoder\n",
    "from sklearn.preprocessing import normalize\n",
    "\n",
    "from sklearn.impute import KNNImputer #You will need the scikit-learn version >= 0.22\n",
    "\n",
    "from sklearn.decomposition import PCA #run again if it does not converge the first time\n",
    "!pip install pca\n",
    "from pca import pca\n",
    "\n",
    "from sklearn.metrics import accuracy_score, silhouette_score\n",
    "\n",
    "from sklearn.cluster import KMeans\n",
    "from sklearn.cluster import AgglomerativeClustering\n",
    "from scipy.cluster.hierarchy import dendrogram, linkage\n",
    "# import scipy.cluster.hierarchy as shc\n",
    "\n",
    "from scipy.spatial.distance import pdist\n",
    "from scipy.spatial.distance import squareform\n",
    "\n",
    "# Ignoring OMP thread count with k-means\n",
    "import warnings\n",
    "warnings.filterwarnings('ignore')"
   ]
  },
  {
   "cell_type": "markdown",
   "id": "ff0be679",
   "metadata": {},
   "source": [
    "## Data Exportation"
   ]
  },
  {
   "cell_type": "code",
   "execution_count": 2,
   "id": "30a81a78",
   "metadata": {},
   "outputs": [
    {
     "data": {
      "text/html": [
       "<div>\n",
       "<style scoped>\n",
       "    .dataframe tbody tr th:only-of-type {\n",
       "        vertical-align: middle;\n",
       "    }\n",
       "\n",
       "    .dataframe tbody tr th {\n",
       "        vertical-align: top;\n",
       "    }\n",
       "\n",
       "    .dataframe thead th {\n",
       "        text-align: right;\n",
       "    }\n",
       "</style>\n",
       "<table border=\"1\" class=\"dataframe\">\n",
       "  <thead>\n",
       "    <tr style=\"text-align: right;\">\n",
       "      <th></th>\n",
       "      <th>City</th>\n",
       "      <th>Murder</th>\n",
       "      <th>Assault</th>\n",
       "      <th>UrbanPop</th>\n",
       "      <th>Rape</th>\n",
       "    </tr>\n",
       "  </thead>\n",
       "  <tbody>\n",
       "    <tr>\n",
       "      <th>0</th>\n",
       "      <td>Alabama</td>\n",
       "      <td>13.2</td>\n",
       "      <td>236</td>\n",
       "      <td>58</td>\n",
       "      <td>21.2</td>\n",
       "    </tr>\n",
       "    <tr>\n",
       "      <th>1</th>\n",
       "      <td>Alaska</td>\n",
       "      <td>10.0</td>\n",
       "      <td>263</td>\n",
       "      <td>48</td>\n",
       "      <td>44.5</td>\n",
       "    </tr>\n",
       "    <tr>\n",
       "      <th>2</th>\n",
       "      <td>Arizona</td>\n",
       "      <td>8.1</td>\n",
       "      <td>294</td>\n",
       "      <td>80</td>\n",
       "      <td>31.0</td>\n",
       "    </tr>\n",
       "    <tr>\n",
       "      <th>3</th>\n",
       "      <td>Arkansas</td>\n",
       "      <td>8.8</td>\n",
       "      <td>190</td>\n",
       "      <td>50</td>\n",
       "      <td>19.5</td>\n",
       "    </tr>\n",
       "    <tr>\n",
       "      <th>4</th>\n",
       "      <td>California</td>\n",
       "      <td>9.0</td>\n",
       "      <td>276</td>\n",
       "      <td>91</td>\n",
       "      <td>40.6</td>\n",
       "    </tr>\n",
       "  </tbody>\n",
       "</table>\n",
       "</div>"
      ],
      "text/plain": [
       "         City  Murder  Assault  UrbanPop  Rape\n",
       "0     Alabama    13.2      236        58  21.2\n",
       "1      Alaska    10.0      263        48  44.5\n",
       "2     Arizona     8.1      294        80  31.0\n",
       "3    Arkansas     8.8      190        50  19.5\n",
       "4  California     9.0      276        91  40.6"
      ]
     },
     "execution_count": 2,
     "metadata": {},
     "output_type": "execute_result"
    }
   ],
   "source": [
    "data = pd.read_csv('UsArrests.csv')\n",
    "df = pd.read_csv('UsArrests.csv')\n",
    "cities = data.index\n",
    "data.head()"
   ]
  },
  {
   "cell_type": "code",
   "execution_count": 3,
   "id": "6d5ebb25",
   "metadata": {},
   "outputs": [
    {
     "name": "stdout",
     "output_type": "stream",
     "text": [
      "<class 'pandas.core.frame.DataFrame'>\n",
      "RangeIndex: 50 entries, 0 to 49\n",
      "Data columns (total 5 columns):\n",
      " #   Column    Non-Null Count  Dtype  \n",
      "---  ------    --------------  -----  \n",
      " 0   City      50 non-null     object \n",
      " 1   Murder    50 non-null     float64\n",
      " 2   Assault   50 non-null     int64  \n",
      " 3   UrbanPop  50 non-null     int64  \n",
      " 4   Rape      50 non-null     float64\n",
      "dtypes: float64(2), int64(2), object(1)\n",
      "memory usage: 2.1+ KB\n"
     ]
    }
   ],
   "source": [
    "# Understanding the Dataframe\n",
    "data.info()"
   ]
  },
  {
   "cell_type": "code",
   "execution_count": 4,
   "id": "4d05ddd6",
   "metadata": {},
   "outputs": [
    {
     "data": {
      "text/plain": [
       "City         object\n",
       "Murder      float64\n",
       "Assault     float64\n",
       "UrbanPop    float64\n",
       "Rape        float64\n",
       "dtype: object"
      ]
     },
     "execution_count": 4,
     "metadata": {},
     "output_type": "execute_result"
    }
   ],
   "source": [
    "# Making numerical features to float types\n",
    "\n",
    "data[\"Assault\"] = data[\"Assault\"].astype(\"float64\")\n",
    "data[\"UrbanPop\"] = data[\"UrbanPop\"].astype(\"float64\")\n",
    "data.dtypes"
   ]
  },
  {
   "cell_type": "code",
   "execution_count": 5,
   "id": "849e5d34",
   "metadata": {},
   "outputs": [
    {
     "name": "stdout",
     "output_type": "stream",
     "text": [
      "Calculating any missing values contained in the DataFrame: \n",
      " City        0\n",
      "Murder      0\n",
      "Assault     0\n",
      "UrbanPop    0\n",
      "Rape        0\n",
      "dtype: int64\n"
     ]
    }
   ],
   "source": [
    "# Checking for any missing values within the data set\n",
    "\n",
    "print('Calculating any missing values contained in the DataFrame: \\n' ,data.isnull().sum())"
   ]
  },
  {
   "cell_type": "code",
   "execution_count": 6,
   "id": "b4ad6a82",
   "metadata": {},
   "outputs": [
    {
     "data": {
      "text/html": [
       "<div>\n",
       "<style scoped>\n",
       "    .dataframe tbody tr th:only-of-type {\n",
       "        vertical-align: middle;\n",
       "    }\n",
       "\n",
       "    .dataframe tbody tr th {\n",
       "        vertical-align: top;\n",
       "    }\n",
       "\n",
       "    .dataframe thead th {\n",
       "        text-align: right;\n",
       "    }\n",
       "</style>\n",
       "<table border=\"1\" class=\"dataframe\">\n",
       "  <thead>\n",
       "    <tr style=\"text-align: right;\">\n",
       "      <th></th>\n",
       "      <th>Murder</th>\n",
       "      <th>Assault</th>\n",
       "      <th>UrbanPop</th>\n",
       "      <th>Rape</th>\n",
       "    </tr>\n",
       "  </thead>\n",
       "  <tbody>\n",
       "    <tr>\n",
       "      <th>count</th>\n",
       "      <td>50.00000</td>\n",
       "      <td>50.000000</td>\n",
       "      <td>50.000000</td>\n",
       "      <td>50.000000</td>\n",
       "    </tr>\n",
       "    <tr>\n",
       "      <th>mean</th>\n",
       "      <td>7.78800</td>\n",
       "      <td>170.760000</td>\n",
       "      <td>65.540000</td>\n",
       "      <td>21.232000</td>\n",
       "    </tr>\n",
       "    <tr>\n",
       "      <th>std</th>\n",
       "      <td>4.35551</td>\n",
       "      <td>83.337661</td>\n",
       "      <td>14.474763</td>\n",
       "      <td>9.366385</td>\n",
       "    </tr>\n",
       "    <tr>\n",
       "      <th>min</th>\n",
       "      <td>0.80000</td>\n",
       "      <td>45.000000</td>\n",
       "      <td>32.000000</td>\n",
       "      <td>7.300000</td>\n",
       "    </tr>\n",
       "    <tr>\n",
       "      <th>25%</th>\n",
       "      <td>4.07500</td>\n",
       "      <td>109.000000</td>\n",
       "      <td>54.500000</td>\n",
       "      <td>15.075000</td>\n",
       "    </tr>\n",
       "    <tr>\n",
       "      <th>50%</th>\n",
       "      <td>7.25000</td>\n",
       "      <td>159.000000</td>\n",
       "      <td>66.000000</td>\n",
       "      <td>20.100000</td>\n",
       "    </tr>\n",
       "    <tr>\n",
       "      <th>75%</th>\n",
       "      <td>11.25000</td>\n",
       "      <td>249.000000</td>\n",
       "      <td>77.750000</td>\n",
       "      <td>26.175000</td>\n",
       "    </tr>\n",
       "    <tr>\n",
       "      <th>max</th>\n",
       "      <td>17.40000</td>\n",
       "      <td>337.000000</td>\n",
       "      <td>91.000000</td>\n",
       "      <td>46.000000</td>\n",
       "    </tr>\n",
       "  </tbody>\n",
       "</table>\n",
       "</div>"
      ],
      "text/plain": [
       "         Murder     Assault   UrbanPop       Rape\n",
       "count  50.00000   50.000000  50.000000  50.000000\n",
       "mean    7.78800  170.760000  65.540000  21.232000\n",
       "std     4.35551   83.337661  14.474763   9.366385\n",
       "min     0.80000   45.000000  32.000000   7.300000\n",
       "25%     4.07500  109.000000  54.500000  15.075000\n",
       "50%     7.25000  159.000000  66.000000  20.100000\n",
       "75%    11.25000  249.000000  77.750000  26.175000\n",
       "max    17.40000  337.000000  91.000000  46.000000"
      ]
     },
     "execution_count": 6,
     "metadata": {},
     "output_type": "execute_result"
    }
   ],
   "source": [
    "# Statistical summary\n",
    "\n",
    "data.describe()"
   ]
  },
  {
   "cell_type": "code",
   "execution_count": 7,
   "id": "06953ef3",
   "metadata": {},
   "outputs": [
    {
     "data": {
      "image/png": "[encoded data removed]",
      "text/plain": [
       "<Figure size 576x432 with 2 Axes>"
      ]
     },
     "metadata": {
      "needs_background": "light"
     },
     "output_type": "display_data"
    }
   ],
   "source": [
    "# Looking at how our datas' features correlate with one another\n",
    "\n",
    "plt.figure(figsize=(8,6))\n",
    "Arrest_corr = data.corr()\n",
    "\n",
    "# to mask mirrored side of heatmap\n",
    "dropmirror = np.zeros_like(Arrest_corr)\n",
    "dropmirror[np.triu_indices_from(dropmirror)] = True\n",
    "\n",
    "sns.heatmap(Arrest_corr, annot=True, mask=dropmirror)\n",
    "plt.title('Correlation Heatmap of Us Arrests')\n",
    "plt.show()\n"
   ]
  },
  {
   "cell_type": "markdown",
   "id": "13541210",
   "metadata": {},
   "source": [
    "The graph avobe shows the correlation between the variables, where all of them have possitive correlation. Urbanpop and murder have the lowest positive correlation (0.7), and rape and assault have the higuest correlation (0.8)."
   ]
  },
  {
   "cell_type": "code",
   "execution_count": 8,
   "id": "4057281d",
   "metadata": {},
   "outputs": [
    {
     "data": {
      "image/png": "[encoded data removed]",
      "text/plain": [
       "<Figure size 432x288 with 1 Axes>"
      ]
     },
     "metadata": {
      "needs_background": "light"
     },
     "output_type": "display_data"
    }
   ],
   "source": [
    "# Boxplot to represent the distribution\n",
    "\n",
    "sns.boxplot(data=data, orient='h')\n",
    "plt.ylabel('Features')\n",
    "plt.xlabel('Count')\n",
    "plt.title('Data distribution of the four features')\n",
    "plt.show()"
   ]
  },
  {
   "cell_type": "markdown",
   "id": "5e533a68",
   "metadata": {},
   "source": [
    "As can be seen in the boxplot, assault is the crime that take pace the most, followed by rape and murder."
   ]
  },
  {
   "cell_type": "markdown",
   "id": "aa179db7",
   "metadata": {},
   "source": [
    "## Data Sacaling"
   ]
  },
  {
   "cell_type": "code",
   "execution_count": 9,
   "id": "d4f44e9c",
   "metadata": {},
   "outputs": [
    {
     "data": {
      "text/html": [
       "<div>\n",
       "<style scoped>\n",
       "    .dataframe tbody tr th:only-of-type {\n",
       "        vertical-align: middle;\n",
       "    }\n",
       "\n",
       "    .dataframe tbody tr th {\n",
       "        vertical-align: top;\n",
       "    }\n",
       "\n",
       "    .dataframe thead th {\n",
       "        text-align: right;\n",
       "    }\n",
       "</style>\n",
       "<table border=\"1\" class=\"dataframe\">\n",
       "  <thead>\n",
       "    <tr style=\"text-align: right;\">\n",
       "      <th></th>\n",
       "      <th>Murder</th>\n",
       "      <th>Assault</th>\n",
       "      <th>UrbanPop</th>\n",
       "      <th>Rape</th>\n",
       "    </tr>\n",
       "  </thead>\n",
       "  <tbody>\n",
       "    <tr>\n",
       "      <th>0</th>\n",
       "      <td>1.255179</td>\n",
       "      <td>0.790787</td>\n",
       "      <td>-0.526195</td>\n",
       "      <td>-0.003451</td>\n",
       "    </tr>\n",
       "    <tr>\n",
       "      <th>1</th>\n",
       "      <td>0.513019</td>\n",
       "      <td>1.118060</td>\n",
       "      <td>-1.224067</td>\n",
       "      <td>2.509424</td>\n",
       "    </tr>\n",
       "    <tr>\n",
       "      <th>2</th>\n",
       "      <td>0.072361</td>\n",
       "      <td>1.493817</td>\n",
       "      <td>1.009122</td>\n",
       "      <td>1.053466</td>\n",
       "    </tr>\n",
       "    <tr>\n",
       "      <th>3</th>\n",
       "      <td>0.234708</td>\n",
       "      <td>0.233212</td>\n",
       "      <td>-1.084492</td>\n",
       "      <td>-0.186794</td>\n",
       "    </tr>\n",
       "    <tr>\n",
       "      <th>4</th>\n",
       "      <td>0.281093</td>\n",
       "      <td>1.275635</td>\n",
       "      <td>1.776781</td>\n",
       "      <td>2.088814</td>\n",
       "    </tr>\n",
       "  </tbody>\n",
       "</table>\n",
       "</div>"
      ],
      "text/plain": [
       "     Murder   Assault  UrbanPop      Rape\n",
       "0  1.255179  0.790787 -0.526195 -0.003451\n",
       "1  0.513019  1.118060 -1.224067  2.509424\n",
       "2  0.072361  1.493817  1.009122  1.053466\n",
       "3  0.234708  0.233212 -1.084492 -0.186794\n",
       "4  0.281093  1.275635  1.776781  2.088814"
      ]
     },
     "execution_count": 9,
     "metadata": {},
     "output_type": "execute_result"
    }
   ],
   "source": [
    "# Select independent and standardize features\n",
    "\n",
    "scaled = StandardScaler().fit_transform(data.iloc[:,1:5])\n",
    "\n",
    "# Create scaled version of dataframe\n",
    "\n",
    "data_scale = pd.DataFrame(scaled, columns = data.columns[1:5])\n",
    "data_scale.head()"
   ]
  },
  {
   "cell_type": "markdown",
   "id": "f8dfd110",
   "metadata": {},
   "source": [
    "## Selecting number of components for PCA"
   ]
  },
  {
   "cell_type": "code",
   "execution_count": 10,
   "id": "bce7d090",
   "metadata": {},
   "outputs": [
    {
     "data": {
      "text/plain": [
       "array([0.62006039, 0.24744129, 0.0891408 , 0.04335752])"
      ]
     },
     "execution_count": 10,
     "metadata": {},
     "output_type": "execute_result"
    }
   ],
   "source": [
    "# How components attributes itself to the explained variance\n",
    "\n",
    "pca = PCA().fit(data_scale)\n",
    "\n",
    "pca.explained_variance_ratio_\n"
   ]
  },
  {
   "cell_type": "code",
   "execution_count": 11,
   "id": "79dd5093",
   "metadata": {},
   "outputs": [
    {
     "data": {
      "image/png": "[encoded data removed]",
      "text/plain": [
       "<Figure size 864x432 with 1 Axes>"
      ]
     },
     "metadata": {
      "needs_background": "light"
     },
     "output_type": "display_data"
    }
   ],
   "source": [
    "# Create a graph showing minimum components needed for our analysis\n",
    "\n",
    "X = np.arange(1, 5, step=1)\n",
    "\n",
    "plt.figure(figsize=(12,6))\n",
    "sns.lineplot(x=X, y = np.cumsum(pca.explained_variance_ratio_)*100, linestyle='--', marker='o')\n",
    "\n",
    "plt.title('Line Graph representing the minimum Principle components needed based on Cumulative Variance')\n",
    "plt.xlabel('Principl Component')\n",
    "plt.xticks(np.arange(1, 5, step=1))\n",
    "plt.ylabel('Cumulative Variance')\n",
    "plt.axhline(y=85, color='r', linestyle='-')\n",
    "plt.text(2.5, 85.5, '85% threhold', color = 'red', fontsize=18)\n",
    "plt.show()\n",
    "\n",
    "\n"
   ]
  },
  {
   "cell_type": "markdown",
   "id": "df463178",
   "metadata": {},
   "source": [
    "The garph avobe shows that component 1 contains 62% of all explained variances of the data. Componente 2 contains 24.74%. Hence, these two componentes archive a explanation of variance within our data of 86.74%. This means that we got rid of 50% of our data, still able to maintain a 86.74% explanation value as to how our features deviate or affects one another.\n",
    "\n",
    "Then, the analysis can be proceed with 2 components."
   ]
  },
  {
   "cell_type": "code",
   "execution_count": 12,
   "id": "4aec0830",
   "metadata": {},
   "outputs": [
    {
     "data": {
      "text/plain": [
       "(50, 2)"
      ]
     },
     "execution_count": 12,
     "metadata": {},
     "output_type": "execute_result"
    }
   ],
   "source": [
    "# Proceding with 2 components\n",
    "\n",
    "pca = PCA(n_components = 2)\n",
    "\n",
    "PC = pca.fit_transform(data_scale)\n",
    "\n",
    "PC.shape"
   ]
  },
  {
   "cell_type": "code",
   "execution_count": 13,
   "id": "4227a4dd",
   "metadata": {},
   "outputs": [
    {
     "data": {
      "text/html": [
       "<div>\n",
       "<style scoped>\n",
       "    .dataframe tbody tr th:only-of-type {\n",
       "        vertical-align: middle;\n",
       "    }\n",
       "\n",
       "    .dataframe tbody tr th {\n",
       "        vertical-align: top;\n",
       "    }\n",
       "\n",
       "    .dataframe thead th {\n",
       "        text-align: right;\n",
       "    }\n",
       "</style>\n",
       "<table border=\"1\" class=\"dataframe\">\n",
       "  <thead>\n",
       "    <tr style=\"text-align: right;\">\n",
       "      <th></th>\n",
       "      <th>Principal Component 1</th>\n",
       "      <th>Principal Component 2</th>\n",
       "      <th>City</th>\n",
       "    </tr>\n",
       "  </thead>\n",
       "  <tbody>\n",
       "    <tr>\n",
       "      <th>0</th>\n",
       "      <td>0.985566</td>\n",
       "      <td>1.133392</td>\n",
       "      <td>Alabama</td>\n",
       "    </tr>\n",
       "    <tr>\n",
       "      <th>1</th>\n",
       "      <td>1.950138</td>\n",
       "      <td>1.073213</td>\n",
       "      <td>Alaska</td>\n",
       "    </tr>\n",
       "    <tr>\n",
       "      <th>2</th>\n",
       "      <td>1.763164</td>\n",
       "      <td>-0.745957</td>\n",
       "      <td>Arizona</td>\n",
       "    </tr>\n",
       "    <tr>\n",
       "      <th>3</th>\n",
       "      <td>-0.141420</td>\n",
       "      <td>1.119797</td>\n",
       "      <td>Arkansas</td>\n",
       "    </tr>\n",
       "    <tr>\n",
       "      <th>4</th>\n",
       "      <td>2.523980</td>\n",
       "      <td>-1.542934</td>\n",
       "      <td>California</td>\n",
       "    </tr>\n",
       "  </tbody>\n",
       "</table>\n",
       "</div>"
      ],
      "text/plain": [
       "   Principal Component 1  Principal Component 2        City\n",
       "0               0.985566               1.133392     Alabama\n",
       "1               1.950138               1.073213      Alaska\n",
       "2               1.763164              -0.745957     Arizona\n",
       "3              -0.141420               1.119797    Arkansas\n",
       "4               2.523980              -1.542934  California"
      ]
     },
     "execution_count": 13,
     "metadata": {},
     "output_type": "execute_result"
    }
   ],
   "source": [
    "# Transform the components into a pandas data frame\n",
    "\n",
    "PC_data = pd.DataFrame(data = PC, columns = ['Principal Component 1', 'Principal Component 2'])\n",
    "\n",
    "PC_data['City'] = data['City']\n",
    "\n",
    "PC_data.head()"
   ]
  },
  {
   "cell_type": "code",
   "execution_count": 14,
   "id": "ec63d7d0",
   "metadata": {},
   "outputs": [
    {
     "data": {
      "image/png": "[encoded data removed]",
      "text/plain": [
       "<Figure size 432x288 with 1 Axes>"
      ]
     },
     "metadata": {
      "needs_background": "light"
     },
     "output_type": "display_data"
    }
   ],
   "source": [
    "# Creating a barplot to visually represent how each component affects the variance\n",
    "\n",
    "data = pd.DataFrame({'variance explained' : pca.explained_variance_ratio_, 'Principal Component' : ['PC 1', 'PC 2']})\n",
    "\n",
    "plt.title('Variance Explained by principal components')\n",
    "sns.barplot(x='Principal Component', y='variance explained', data=data, color='g')\n",
    "plt.show()\n",
    "\n"
   ]
  },
  {
   "cell_type": "markdown",
   "id": "a451d861",
   "metadata": {},
   "source": [
    "This graph shows that PC 1 explains around 62% of the variance, and PC 2 explains around 24% of the variance, in total both PC1 and PC 2 explqins 86% of the variance."
   ]
  },
  {
   "cell_type": "code",
   "execution_count": 15,
   "id": "028b967a",
   "metadata": {},
   "outputs": [],
   "source": [
    "def biplot(score,coeff,labels=None,points=None):\n",
    "    xs = score[:,0]\n",
    "    ys = score[:,1]\n",
    "    n = coeff.shape[0]\n",
    "    scalex = 1.0/(xs.max() - xs.min())\n",
    "    scaley = 1.0/(ys.max() - ys.min())\n",
    "\n",
    "    fig, ax = plt.subplots()    \n",
    "\n",
    "    ax.scatter(xs * scalex,ys * scaley,s=5)\n",
    "\n",
    "    for i in range(0,len(xs)):\n",
    "        txt = cities[i]\n",
    "        ax.annotate(txt, (xs[i]* scalex, ys[i]* scaley))\n",
    "\n",
    "    for i in range(n):\n",
    "        ax.arrow(0, 0, coeff[i,0], coeff[i,1],color = 'r',alpha = 0.5)\n",
    "        if labels is None:\n",
    "            ax.text(coeff[i,0]* 1.15, coeff[i,1] * 1.15, \"Var\"+str(i+1), color = 'green', ha = 'center', va = 'center')\n",
    "        else:\n",
    "            ax.text(coeff[i,0]* 1.15, coeff[i,1] * 1.15, labels[i], color = 'g', ha = 'center', va = 'center')\n",
    " \n",
    "    plt.xlabel(\"PC1\")\n",
    "    plt.ylabel(\"PC2\")\n",
    "    plt.grid()"
   ]
  },
  {
   "cell_type": "code",
   "execution_count": 16,
   "id": "ae86a93e",
   "metadata": {},
   "outputs": [
    {
     "data": {
      "image/png": "[encoded data removed]",
      "text/plain": [
       "<Figure size 432x288 with 1 Axes>"
      ]
     },
     "metadata": {
      "needs_background": "light"
     },
     "output_type": "display_data"
    }
   ],
   "source": [
    "biplot(PC[:,0:2],np.transpose(pca.components_[0:2, :]),list(Arrest_corr),list(cities))\n",
    "plt.show()"
   ]
  },
  {
   "cell_type": "markdown",
   "id": "3561a94a",
   "metadata": {},
   "source": [
    "In this graph we can see that the sities are displayed as points. The vectors represent the four varisbles of our data: murder, assault, rape and urbanpopulation. All of the variables have a positive correlation with the first princial component. On the other hand, rape and urban population have a negative correlation with second principal variable."
   ]
  },
  {
   "cell_type": "markdown",
   "id": "0c1340ce",
   "metadata": {},
   "source": [
    "## Hierarchical clustering"
   ]
  },
  {
   "cell_type": "code",
   "execution_count": 17,
   "id": "6d1d6e9f",
   "metadata": {
    "scrolled": true
   },
   "outputs": [
    {
     "data": {
      "image/png": "[encoded data removed]",
      "text/plain": [
       "<Figure size 432x288 with 3 Axes>"
      ]
     },
     "metadata": {
      "needs_background": "light"
     },
     "output_type": "display_data"
    }
   ],
   "source": [
    "# Encode city variable\n",
    "\n",
    "# PC_data_en = PC_data\n",
    "\n",
    "PC_data['City'] = LabelEncoder().fit_transform(PC_data['City'])\n",
    "\n",
    "model = AgglomerativeClustering(distance_threshold=0, n_clusters=None)\n",
    "model = model.fit(PC_data)\n",
    "\n",
    "fig, (ax1, ax2, ax3) = plt.subplots(1, 3)\n",
    "fig.suptitle('Hierarchical Clustering Dendrogram')\n",
    "ax1.set_title(\"Single\")\n",
    "dendrogram(linkage(PC_data, method='single'), labels=PC_data.index, ax=ax1) #change method: eg. single, average, complete...\n",
    "ax2.set_title(\"Average\")\n",
    "dendrogram(linkage(PC_data, method='average'), labels=PC_data.index, ax=ax2)\n",
    "ax3.set_title(\"Complete\")\n",
    "dendrogram(linkage(PC_data, method='complete'), labels=PC_data.index, ax=ax3)\n",
    "plt.show()"
   ]
  },
  {
   "cell_type": "code",
   "execution_count": 18,
   "id": "b504b37c",
   "metadata": {},
   "outputs": [
    {
     "data": {
      "image/png": "[encoded data removed]",
      "text/plain": [
       "<Figure size 432x288 with 1 Axes>"
      ]
     },
     "metadata": {
      "needs_background": "light"
     },
     "output_type": "display_data"
    }
   ],
   "source": [
    "plt.title(\"Complete linkage\")\n",
    "dendrogram(linkage(PC_data, method='complete'), labels=PC_data.index)\n",
    "plt.show()"
   ]
  },
  {
   "cell_type": "markdown",
   "id": "e04d8b0b",
   "metadata": {},
   "source": [
    "Looking at the avobe cluster, we can see that the model identify two clusters. Also, it can be seen that the left cluster has more similarities between its observations than the right cluster."
   ]
  },
  {
   "cell_type": "code",
   "execution_count": 19,
   "id": "a0b741a3",
   "metadata": {},
   "outputs": [
    {
     "name": "stdout",
     "output_type": "stream",
     "text": [
      "Data size:\n",
      "(50, 2)\n"
     ]
    }
   ],
   "source": [
    "# Select useful features\n",
    "X = PC_data[['Principal Component 1','Principal Component 2']].values.reshape(-1,2)  \n",
    "\n",
    "print('Data size:')\n",
    "print(X.shape)\n",
    "\n",
    "# Select K\n",
    "K = 2"
   ]
  },
  {
   "cell_type": "code",
   "execution_count": 20,
   "id": "c3b24dc9",
   "metadata": {},
   "outputs": [
    {
     "name": "stderr",
     "output_type": "stream",
     "text": [
      "No handles with labels found to put in legend.\n"
     ]
    },
    {
     "data": {
      "text/plain": [
       "<matplotlib.legend.Legend at 0x7fc0c86b37c0>"
      ]
     },
     "execution_count": 20,
     "metadata": {},
     "output_type": "execute_result"
    },
    {
     "data": {
      "image/png": "[encoded data removed]",
      "text/plain": [
       "<Figure size 432x288 with 1 Axes>"
      ]
     },
     "metadata": {
      "needs_background": "light"
     },
     "output_type": "display_data"
    }
   ],
   "source": [
    "# We extract the first two components\n",
    "X_std = StandardScaler().fit_transform(X)\n",
    "\n",
    "std_pca = PCA()\n",
    "X_std_trans = std_pca.fit_transform(X_std)\n",
    "\n",
    "df_std_pca = pd.DataFrame(X_std_trans)\n",
    "\n",
    "x = X_std_trans[:,0]\n",
    "y = X_std_trans[:,1]\n",
    "\n",
    "# Fit k-means\n",
    "k=2\n",
    "kmeans = KMeans(n_clusters=k, init='k-means++', random_state=42)\n",
    "cluster_labels = kmeans.fit_predict(PC)\n",
    "cent = kmeans.cluster_centers_\n",
    "\n",
    "# Plot clusters\n",
    "fig, ax = plt.subplots()\n",
    "colours = 'rbgy'\n",
    "for i in range(0,k):\n",
    "    ax.scatter(x[cluster_labels == i],y[cluster_labels == i],c = colours[i]) \n",
    "\n",
    "for i in range(0,len(x)):\n",
    "        txt = cities[i]\n",
    "        ax.annotate(txt, (x[i], y[i]))\n",
    "ax.set_title(\"K-Means cluster plot\")\n",
    "ax.set_xlabel(\"Dim 2\")\n",
    "ax.set_ylabel(\"Dim 1\")\n",
    "ax.legend()"
   ]
  },
  {
   "cell_type": "markdown",
   "id": "4e7f744b",
   "metadata": {},
   "source": [
    "As can be seen in this cluster, the red group contains more states, which means that thouse contries contain similar caracteristics. This group would correspond to the left dendrogram cluster, that showed that that cluster contained more similaries than the other one.  "
   ]
  },
  {
   "cell_type": "code",
   "execution_count": null,
   "id": "94298748",
   "metadata": {},
   "outputs": [],
   "source": []
  }
 ],
 "metadata": {
  "kernelspec": {
   "display_name": "Python 3",
   "language": "python",
   "name": "python3"
  },
  "language_info": {
   "codemirror_mode": {
    "name": "ipython",
    "version": 3
   },
   "file_extension": ".py",
   "mimetype": "text/x-python",
   "name": "python",
   "nbconvert_exporter": "python",
   "pygments_lexer": "ipython3",
   "version": "3.8.8"
  }
 },
 "nbformat": 4,
 "nbformat_minor": 5
}
